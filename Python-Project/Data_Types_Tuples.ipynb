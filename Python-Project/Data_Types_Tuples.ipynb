{
 "cells": [
  {
   "cell_type": "markdown",
   "id": "d153d7cc-15e1-41f3-9c64-80378c0ba684",
   "metadata": {},
   "source": [
    "# Tuple"
   ]
  },
  {
   "cell_type": "markdown",
   "id": "264bdc31-f185-4a28-8c58-9da98f2b23e4",
   "metadata": {},
   "source": [
    "- Tuples are used to store multiple items in a single variable.\n",
    "\n",
    "- Tuple is one of 4 built-in data types in Python used to store collections of data, the other 3 are List, Set, and Dictionary, all with different qualities and usage.\n",
    "\n",
    "- A tuple is a collection which is ordered and unchangeable.\n",
    "\n",
    "- Tuples are written with round brackets."
   ]
  },
  {
   "cell_type": "markdown",
   "id": "6aba9b6e-a178-4fb4-9578-f979b237812a",
   "metadata": {},
   "source": [
    "### CREATE"
   ]
  },
  {
   "cell_type": "code",
   "execution_count": 7,
   "id": "e3a2b3dd-4a95-4802-bc70-4d8aff47748b",
   "metadata": {},
   "outputs": [
    {
     "data": {
      "text/plain": [
       "(3, 6, 7, 8)"
      ]
     },
     "execution_count": 7,
     "metadata": {},
     "output_type": "execute_result"
    }
   ],
   "source": [
    "# CREATE\n",
    "My_Tuple = (3, 6, 7, 8)\n",
    "My_Tuple"
   ]
  },
  {
   "cell_type": "code",
   "execution_count": 30,
   "id": "e7f1447e-15a3-45cc-b0de-50cc5b4f3f03",
   "metadata": {},
   "outputs": [
    {
     "name": "stdout",
     "output_type": "stream",
     "text": [
      "['Hermann', 'Dorothe', 'Kurthis', 'Chelsea']\n"
     ]
    }
   ],
   "source": [
    "Tuple_name = [\"Hermann\", \"Dorothe\", \"Kurthis\", \"Chelsea\"]\n",
    "print(Tuple_name)"
   ]
  },
  {
   "cell_type": "markdown",
   "id": "b33636b2-ce61-481a-88d9-8b69f0edd58d",
   "metadata": {},
   "source": [
    "### READ"
   ]
  },
  {
   "cell_type": "code",
   "execution_count": 26,
   "id": "0b9aefbe-0827-48b7-9ab2-4d7c4d3f535d",
   "metadata": {},
   "outputs": [
    {
     "data": {
      "text/plain": [
       "3"
      ]
     },
     "execution_count": 26,
     "metadata": {},
     "output_type": "execute_result"
    }
   ],
   "source": [
    "My_Tuple[0]"
   ]
  },
  {
   "cell_type": "code",
   "execution_count": 28,
   "id": "96b8bf99-c916-48f4-b745-97ba9404acb7",
   "metadata": {},
   "outputs": [
    {
     "data": {
      "text/plain": [
       "8"
      ]
     },
     "execution_count": 28,
     "metadata": {},
     "output_type": "execute_result"
    }
   ],
   "source": [
    "My_Tuple[3]"
   ]
  },
  {
   "cell_type": "code",
   "execution_count": 32,
   "id": "4b98973c-8d94-46bd-9f32-e0958d15e476",
   "metadata": {},
   "outputs": [
    {
     "data": {
      "text/plain": [
       "'Dorothe'"
      ]
     },
     "execution_count": 32,
     "metadata": {},
     "output_type": "execute_result"
    }
   ],
   "source": [
    "Tuple_name[1]"
   ]
  },
  {
   "cell_type": "code",
   "execution_count": 34,
   "id": "b664545a-9f19-47d3-805e-66de054b813d",
   "metadata": {},
   "outputs": [
    {
     "data": {
      "text/plain": [
       "'Chelsea'"
      ]
     },
     "execution_count": 34,
     "metadata": {},
     "output_type": "execute_result"
    }
   ],
   "source": [
    "# List the last name in \n",
    "Tuple_name[-1]"
   ]
  },
  {
   "cell_type": "markdown",
   "id": "e4d283b1-038b-495a-991d-e0fe64d37cc8",
   "metadata": {},
   "source": [
    "### Update"
   ]
  },
  {
   "cell_type": "markdown",
   "id": "c499a2ce-e178-4b06-82dd-028ba4bc6fad",
   "metadata": {},
   "source": [
    "#### Tuples are unchangeable, meaning that you cannot change, add, or remove items once the tuple is created."
   ]
  },
  {
   "cell_type": "code",
   "execution_count": 42,
   "id": "39a9e37a-98e2-4c58-8c41-9bad105851b3",
   "metadata": {},
   "outputs": [
    {
     "ename": "TypeError",
     "evalue": "'tuple' object does not support item assignment",
     "output_type": "error",
     "traceback": [
      "\u001b[1;31m---------------------------------------------------------------------------\u001b[0m",
      "\u001b[1;31mTypeError\u001b[0m                                 Traceback (most recent call last)",
      "Cell \u001b[1;32mIn[42], line 1\u001b[0m\n\u001b[1;32m----> 1\u001b[0m My_Tuple[\u001b[38;5;241m-\u001b[39m\u001b[38;5;241m1\u001b[39m]\u001b[38;5;241m=\u001b[39m\u001b[38;5;241m0\u001b[39m\n",
      "\u001b[1;31mTypeError\u001b[0m: 'tuple' object does not support item assignment"
     ]
    }
   ],
   "source": [
    "My_Tuple[-1]=0"
   ]
  },
  {
   "cell_type": "code",
   "execution_count": 44,
   "id": "cf67b923-2ff7-4f3d-ab37-b5c77b61c443",
   "metadata": {},
   "outputs": [],
   "source": [
    "# its gave me error because we cannot change, add or remove items one the tuple is created. but on the list we can do that"
   ]
  },
  {
   "cell_type": "markdown",
   "id": "257d4fcc-0308-442d-8344-9cda692bb6bc",
   "metadata": {},
   "source": [
    "### Delete"
   ]
  },
  {
   "cell_type": "code",
   "execution_count": 49,
   "id": "f51c6ace-d71e-4874-a489-28b6ecd15c83",
   "metadata": {},
   "outputs": [],
   "source": [
    "# delete a tuple\n",
    "del My_Tuple"
   ]
  },
  {
   "cell_type": "code",
   "execution_count": null,
   "id": "620c2edf-bd72-434a-9734-b547b42b2c40",
   "metadata": {},
   "outputs": [],
   "source": []
  }
 ],
 "metadata": {
  "kernelspec": {
   "display_name": "Python [conda env:base] *",
   "language": "python",
   "name": "conda-base-py"
  },
  "language_info": {
   "codemirror_mode": {
    "name": "ipython",
    "version": 3
   },
   "file_extension": ".py",
   "mimetype": "text/x-python",
   "name": "python",
   "nbconvert_exporter": "python",
   "pygments_lexer": "ipython3",
   "version": "3.12.7"
  }
 },
 "nbformat": 4,
 "nbformat_minor": 5
}
