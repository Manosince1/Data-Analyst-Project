Syntax
Declare And Use Variables
