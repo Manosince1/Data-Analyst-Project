{
 "cells": [
  {
   "cell_type": "markdown",
   "id": "c35a6e32-1fc3-49e9-b6e8-61581b5f30e8",
   "metadata": {},
   "source": [
    "# Data Types"
   ]
  },
  {
   "cell_type": "markdown",
   "id": "1313b2fb-5cb1-4b77-aa0a-d9891184162a",
   "metadata": {},
   "source": [
    "## LIST CRUD(CREATE-READ-UPDATE-DELETE)\n",
    "- Lists are used to store multiple items in a single variable.\n",
    "\n",
    "- Lists are one of 4 built-in data types in Python used to store collections of data, the other 3 are Tuple, Set, and Dictionary, all with different qualities and usage.\n",
    "\n",
    "- Lists are created using square brackets:"
   ]
  },
  {
   "cell_type": "markdown",
   "id": "3b3d867e-cd73-4cce-9ea9-0b7474afc97a",
   "metadata": {},
   "source": [
    "### CREATE"
   ]
  },
  {
   "cell_type": "code",
   "execution_count": 3,
   "id": "9115d03c-282c-48e4-80e2-1dad00f65cc2",
   "metadata": {},
   "outputs": [],
   "source": [
    "# Lists are used to store multiple items in a single variable."
   ]
  },
  {
   "cell_type": "code",
   "execution_count": 20,
   "id": "d23ce02f-64ae-4e40-a561-df7fb11af77f",
   "metadata": {},
   "outputs": [
    {
     "name": "stdout",
     "output_type": "stream",
     "text": [
      "[17, 29, 18, 15, 9, 12, 32, 7]\n"
     ]
    }
   ],
   "source": [
    "# list String, int and boolean data types:\n",
    "liste_age = [17, 29, 18, 15, 9, 12, 32, 7]\n",
    "print(liste_age)"
   ]
  },
  {
   "cell_type": "code",
   "execution_count": 22,
   "id": "0cb19393-c4c3-4d80-8553-aaf0ff3b44ca",
   "metadata": {},
   "outputs": [
    {
     "data": {
      "text/plain": [
       "list"
      ]
     },
     "execution_count": 22,
     "metadata": {},
     "output_type": "execute_result"
    }
   ],
   "source": [
    "type(liste_age)\n"
   ]
  },
  {
   "cell_type": "code",
   "execution_count": 42,
   "id": "b3c00012-47b8-442c-ab03-ef974e3565d4",
   "metadata": {},
   "outputs": [
    {
     "name": "stdout",
     "output_type": "stream",
     "text": [
      "[True, False, False]\n"
     ]
    }
   ],
   "source": [
    "list_bool = [True, False, False]\n",
    "print(list_bool)"
   ]
  },
  {
   "cell_type": "code",
   "execution_count": 114,
   "id": "051dc818-d535-477a-b933-e3de607c1dfb",
   "metadata": {},
   "outputs": [
    {
     "name": "stdout",
     "output_type": "stream",
     "text": [
      "['apple', 'banana', 'cherry', 'apple', 'cherry']\n"
     ]
    }
   ],
   "source": [
    "List_Fruit = [\"apple\", \"banana\", \"cherry\", \"apple\", \"cherry\"]\n",
    "print(List_Fruit)"
   ]
  },
  {
   "cell_type": "markdown",
   "id": "32e7e554-684e-46fc-a545-3dd36173d264",
   "metadata": {},
   "source": [
    "#### List Length\n"
   ]
  },
  {
   "cell_type": "code",
   "execution_count": 30,
   "id": "daad34b0-68fb-49d1-9493-dda4ffadbd52",
   "metadata": {},
   "outputs": [
    {
     "data": {
      "text/plain": [
       "8"
      ]
     },
     "execution_count": 30,
     "metadata": {},
     "output_type": "execute_result"
    }
   ],
   "source": [
    "len(liste_age)"
   ]
  },
  {
   "cell_type": "markdown",
   "id": "6c45b555-4f1d-4066-a08c-f107e5045d50",
   "metadata": {},
   "source": [
    "### list of list"
   ]
  },
  {
   "cell_type": "code",
   "execution_count": 118,
   "id": "18b5b26e-6611-40dc-ad64-5cf8a918bd27",
   "metadata": {},
   "outputs": [
    {
     "name": "stdout",
     "output_type": "stream",
     "text": [
      "[[17, 29, 18, 15, 9, 12, 32, 7], ['apple', 'banana', 'cherry', 'apple', 'cherry']]\n"
     ]
    }
   ],
   "source": [
    "liste = [liste_age, List_Fruit]\n",
    "print(liste)"
   ]
  },
  {
   "cell_type": "markdown",
   "id": "99429062-d38b-4508-b29c-cd3bf6880752",
   "metadata": {},
   "source": [
    "### READ"
   ]
  },
  {
   "cell_type": "code",
   "execution_count": 54,
   "id": "8858bbad-9c8f-4763-be57-a072afe18cef",
   "metadata": {},
   "outputs": [
    {
     "data": {
      "text/plain": [
       "17"
      ]
     },
     "execution_count": 54,
     "metadata": {},
     "output_type": "execute_result"
    }
   ],
   "source": [
    "# Access the list\n",
    "liste_age = [17, 29, 18, 15, 9, 12, 32, 7]\n",
    "# Access the first position\n",
    "liste_age[0]"
   ]
  },
  {
   "cell_type": "code",
   "execution_count": 56,
   "id": "068e2afb-ef59-42ed-9fb5-f0f042a60b04",
   "metadata": {},
   "outputs": [
    {
     "data": {
      "text/plain": [
       "9"
      ]
     },
     "execution_count": 56,
     "metadata": {},
     "output_type": "execute_result"
    }
   ],
   "source": [
    "# Access the fifth position\n",
    "liste_age[4]"
   ]
  },
  {
   "cell_type": "code",
   "execution_count": 58,
   "id": "13843717-358b-4185-9b43-2d65baf6cec7",
   "metadata": {},
   "outputs": [
    {
     "data": {
      "text/plain": [
       "7"
      ]
     },
     "execution_count": 58,
     "metadata": {},
     "output_type": "execute_result"
    }
   ],
   "source": [
    "# Access the fifth position\n",
    "liste_age[-1]"
   ]
  },
  {
   "cell_type": "code",
   "execution_count": 60,
   "id": "8560f639-15dc-4de8-8cdd-3a252c57c867",
   "metadata": {},
   "outputs": [
    {
     "data": {
      "text/plain": [
       "[17, 29, 18]"
      ]
     },
     "execution_count": 60,
     "metadata": {},
     "output_type": "execute_result"
    }
   ],
   "source": [
    "# Access on many position\n",
    "liste_age[0:3]"
   ]
  },
  {
   "cell_type": "code",
   "execution_count": 66,
   "id": "27665923-65ba-43d5-b302-a54b1eece848",
   "metadata": {},
   "outputs": [
    {
     "name": "stdout",
     "output_type": "stream",
     "text": [
      "Hermann\n",
      "Dorothe\n",
      "Kurthis\n",
      "Chelsea\n"
     ]
    }
   ],
   "source": [
    "# For Loops on list\n",
    "List_name = [\"Hermann\", \"Dorothe\", \"Kurthis\", \"Chelsea\"]\n",
    "for name in List_name:\n",
    "    print(name)\n"
   ]
  },
  {
   "cell_type": "markdown",
   "id": "b617b56f-197f-4ad1-916e-928cb2d1c114",
   "metadata": {},
   "source": [
    "### UPDATE"
   ]
  },
  {
   "cell_type": "markdown",
   "id": "808e13df-d874-4190-ae88-0c38267fb3c4",
   "metadata": {},
   "source": [
    "#### Change Item Value"
   ]
  },
  {
   "cell_type": "code",
   "execution_count": 88,
   "id": "cb0e51d9-6961-4c4e-a954-2e22351b7fac",
   "metadata": {},
   "outputs": [
    {
     "name": "stdout",
     "output_type": "stream",
     "text": [
      "['Hermann', 'Dorothe', 'Moaye', 'Chelsea']\n"
     ]
    }
   ],
   "source": [
    "List_name = [\"Hermann\", \"Dorothe\", \"Kurthis\", \"Chelsea\"]\n",
    "List_name[2] = \"Moaye\"\n",
    "print(List_name)"
   ]
  },
  {
   "cell_type": "markdown",
   "id": "d95b96d0-9592-470c-9491-f66552adb3d4",
   "metadata": {},
   "source": [
    "#### Append Items"
   ]
  },
  {
   "cell_type": "code",
   "execution_count": 93,
   "id": "6daa3150-420e-4297-a9bd-08d5bf6084d6",
   "metadata": {},
   "outputs": [
    {
     "name": "stdout",
     "output_type": "stream",
     "text": [
      "['apple', 'banana', 'cherry', 'orange']\n"
     ]
    }
   ],
   "source": [
    "# To add an item to the end of the list, use the append() method:\n",
    "List_Fruit = [\"apple\", \"banana\", \"cherry\"]\n",
    "List_Fruit.append(\"orange\")\n",
    "print(List_Fruit)"
   ]
  },
  {
   "cell_type": "code",
   "execution_count": 108,
   "id": "6486b44b-331a-43a2-9f3e-79de542e7c07",
   "metadata": {},
   "outputs": [
    {
     "name": "stdout",
     "output_type": "stream",
     "text": [
      "['Hermann', 'Dorothe', 'Kurthis', 'Chelsea', 'Brou']\n"
     ]
    }
   ],
   "source": [
    "List_name = [\"Hermann\", \"Dorothe\", \"Kurthis\", \"Chelsea\"]\n",
    "List_name.append(\"Brou\")\n",
    "print(List_name)"
   ]
  },
  {
   "cell_type": "markdown",
   "id": "06ac6e43-95f9-4387-b47a-9ece8974c91c",
   "metadata": {},
   "source": [
    "#### Extend Items"
   ]
  },
  {
   "cell_type": "code",
   "execution_count": 97,
   "id": "b3c9e3d1-196f-4612-adbe-b62dfee3b2be",
   "metadata": {},
   "outputs": [
    {
     "name": "stdout",
     "output_type": "stream",
     "text": [
      "['apple', 'orange', 'banana', 'cherry']\n"
     ]
    }
   ],
   "source": [
    "# To insert a list item at a specified index, use the insert() method.\n",
    "List_Fruit = [\"apple\", \"banana\", \"cherry\"]\n",
    "List_Fruit.insert(1, \"orange\")\n",
    "print(List_Fruit)"
   ]
  },
  {
   "cell_type": "code",
   "execution_count": 99,
   "id": "f0ee003e-587a-49d1-926a-85f4b54cc5fb",
   "metadata": {},
   "outputs": [
    {
     "name": "stdout",
     "output_type": "stream",
     "text": [
      "['apple', 'banana', 'cherry', 'mango', 'pineapple', 'papaya']\n"
     ]
    }
   ],
   "source": [
    "# To append elements from another list to the current list, use the extend() method.\n",
    "#Add the elements of tropical to thislist:\n",
    "List_Fruit = [\"apple\", \"banana\", \"cherry\"]\n",
    "tropical = [\"mango\", \"pineapple\", \"papaya\"]\n",
    "List_Fruit.extend(tropical)\n",
    "print(List_Fruit)"
   ]
  },
  {
   "cell_type": "markdown",
   "id": "1363d489-ac77-479f-b611-785f6d9702ee",
   "metadata": {},
   "source": [
    "### DELETE"
   ]
  },
  {
   "cell_type": "markdown",
   "id": "8ae20ec2-c4ad-4eeb-a82d-42dd3b48eefa",
   "metadata": {},
   "source": [
    "#### Remove"
   ]
  },
  {
   "cell_type": "code",
   "execution_count": 110,
   "id": "f1415bb7-bb47-471e-afc3-589131f6a9e1",
   "metadata": {},
   "outputs": [
    {
     "name": "stdout",
     "output_type": "stream",
     "text": [
      "['Hermann', 'Dorothe', 'Kurthis', 'Chelsea']\n"
     ]
    }
   ],
   "source": [
    "# The remove() method removes the specified item.\n",
    "List_name = [\"Hermann\", \"Dorothe\", \"Kurthis\", \"Chelsea\", \"Hannah\"]\n",
    "List_name.remove(\"Hannah\")\n",
    "print(List_name)"
   ]
  },
  {
   "cell_type": "code",
   "execution_count": 112,
   "id": "7d0e049e-63d7-47ab-bfc5-9d013bb87b6a",
   "metadata": {},
   "outputs": [
    {
     "name": "stdout",
     "output_type": "stream",
     "text": [
      "['apple', 'cherry']\n"
     ]
    }
   ],
   "source": [
    "# Remove specified index\n",
    "List_Fruit = [\"apple\", \"banana\", \"cherry\"]\n",
    "List_Fruit.pop(1) \n",
    "print(List_Fruit)"
   ]
  },
  {
   "cell_type": "markdown",
   "id": "ea78a72e-6ae7-4835-b532-ced322930e7d",
   "metadata": {},
   "source": [
    "#### Del"
   ]
  },
  {
   "cell_type": "code",
   "execution_count": 120,
   "id": "d868f1cd-aa90-470d-839b-68e55ca55c06",
   "metadata": {},
   "outputs": [
    {
     "name": "stdout",
     "output_type": "stream",
     "text": [
      "['banana', 'cherry']\n"
     ]
    }
   ],
   "source": [
    "# The del keyword also removes the specified index:\n",
    "List_Fruit = [\"apple\", \"banana\", \"cherry\"]\n",
    "del List_Fruit[0]\n",
    "print(List_Fruit)"
   ]
  },
  {
   "cell_type": "code",
   "execution_count": 138,
   "id": "74bc255a-3f7a-4e07-876a-e864a6610a14",
   "metadata": {},
   "outputs": [],
   "source": [
    "# Delete the entire list:\n",
    "List_Fruit = [\"apple\", \"banana\", \"cherry\"]\n",
    "del List_Fruit"
   ]
  },
  {
   "cell_type": "markdown",
   "id": "eecd6a3f-e450-4dd8-bff6-d52dcca7a093",
   "metadata": {},
   "source": [
    "#### Clear"
   ]
  },
  {
   "cell_type": "code",
   "execution_count": 136,
   "id": "9e6b2e21-f97f-4db8-bed1-75376f1c1fd5",
   "metadata": {},
   "outputs": [
    {
     "name": "stdout",
     "output_type": "stream",
     "text": [
      "[]\n"
     ]
    }
   ],
   "source": [
    "# The clear() method empties the list.\n",
    "List_Fruit = [\"apple\", \"banana\", \"cherry\"]\n",
    "List_Fruit.clear()\n",
    "print(List_Fruit)"
   ]
  },
  {
   "cell_type": "markdown",
   "id": "c1b5d06f-2db0-488e-b3db-c4418e499ca0",
   "metadata": {},
   "source": [
    "## Other List(Sort-Copy-join)\n"
   ]
  },
  {
   "cell_type": "markdown",
   "id": "11ad5c93-d5ca-497a-bade-e3b77eb54106",
   "metadata": {},
   "source": [
    "### Sort List Alphanumerically"
   ]
  },
  {
   "cell_type": "markdown",
   "id": "cc3f6e9e-b588-4997-b6e9-67f2abe58353",
   "metadata": {},
   "source": [
    "#### Sort Ascending"
   ]
  },
  {
   "cell_type": "code",
   "execution_count": 152,
   "id": "bef5ef3a-4397-4b3b-8277-be8d848171a1",
   "metadata": {},
   "outputs": [
    {
     "name": "stdout",
     "output_type": "stream",
     "text": [
      "['banana', 'kiwi', 'mango', 'orange', 'pineapple']\n"
     ]
    }
   ],
   "source": [
    "List_Fruit = [\"orange\", \"mango\", \"kiwi\", \"pineapple\", \"banana\"]\n",
    "List_Fruit.sort()\n",
    "print(List_Fruit)"
   ]
  },
  {
   "cell_type": "code",
   "execution_count": 144,
   "id": "067b03ee-de7c-4c7f-acf7-12847b4df212",
   "metadata": {},
   "outputs": [
    {
     "name": "stdout",
     "output_type": "stream",
     "text": [
      "[18, 28, 38, 40, 125]\n"
     ]
    }
   ],
   "source": [
    "List_number = [125, 28, 18, 40, 38]\n",
    "List_number.sort()\n",
    "print(List_number)"
   ]
  },
  {
   "cell_type": "markdown",
   "id": "cef59d77-cb99-46d0-bb53-58553e2a67c0",
   "metadata": {},
   "source": [
    "#### Sort Descending"
   ]
  },
  {
   "cell_type": "code",
   "execution_count": 154,
   "id": "61fefc68-0c53-4af2-9879-2602f6c7ac9f",
   "metadata": {},
   "outputs": [
    {
     "name": "stdout",
     "output_type": "stream",
     "text": [
      "['pineapple', 'orange', 'mango', 'kiwi', 'banana']\n"
     ]
    }
   ],
   "source": [
    "List_Fruit = [\"orange\", \"mango\", \"kiwi\", \"pineapple\", \"banana\"]\n",
    "List_Fruit.sort(reverse = True)\n",
    "print(List_Fruit)"
   ]
  },
  {
   "cell_type": "code",
   "execution_count": 156,
   "id": "b120f257-8b14-4d7e-87a8-be448c32f286",
   "metadata": {},
   "outputs": [
    {
     "name": "stdout",
     "output_type": "stream",
     "text": [
      "[100, 82, 65, 50, 23]\n"
     ]
    }
   ],
   "source": [
    "List_number = [100, 50, 65, 82, 23]\n",
    "List_number.sort(reverse = True)\n",
    "print(List_number)"
   ]
  },
  {
   "cell_type": "markdown",
   "id": "8c4f84af-bf92-4c20-986a-06b648e1a2dc",
   "metadata": {},
   "source": [
    "### Join Two List"
   ]
  },
  {
   "cell_type": "code",
   "execution_count": 160,
   "id": "2267c31f-0599-4cf5-9b9b-6f1f437e2fee",
   "metadata": {},
   "outputs": [
    {
     "name": "stdout",
     "output_type": "stream",
     "text": [
      "['a', 'b', 'c', 1, 2, 3]\n"
     ]
    }
   ],
   "source": [
    "# Join two list:\n",
    "list1 = [\"a\", \"b\", \"c\"]\n",
    "list2 = [1, 2, 3]\n",
    "list3 = list1 + list2\n",
    "print(list3)"
   ]
  },
  {
   "cell_type": "code",
   "execution_count": null,
   "id": "c403cd57-f986-4016-bf59-e9d6cc488fdf",
   "metadata": {},
   "outputs": [],
   "source": []
  }
 ],
 "metadata": {
  "kernelspec": {
   "display_name": "Python [conda env:base] *",
   "language": "python",
   "name": "conda-base-py"
  },
  "language_info": {
   "codemirror_mode": {
    "name": "ipython",
    "version": 3
   },
   "file_extension": ".py",
   "mimetype": "text/x-python",
   "name": "python",
   "nbconvert_exporter": "python",
   "pygments_lexer": "ipython3",
   "version": "3.12.7"
  }
 },
 "nbformat": 4,
 "nbformat_minor": 5
}
