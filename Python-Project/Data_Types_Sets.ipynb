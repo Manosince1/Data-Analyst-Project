{
 "cells": [
  {
   "cell_type": "markdown",
   "id": "e3ef0b08-1449-4435-abc9-58900bdaf42f",
   "metadata": {},
   "source": [
    "# Set\n",
    "- Sets are used to store multiple items in a single variable.\n",
    "\n",
    "- Set is one of 4 built-in data types in Python used to store collections of data, the other 3 are List, Tuple, and Dictionary, all with different qualities and usage.\n",
    "\n",
    "- A set is a collection which is unordered, unchangeable*, and unindexed."
   ]
  },
  {
   "cell_type": "markdown",
   "id": "c1fe8e4e-7188-4960-9ec6-1e09e6a1813b",
   "metadata": {},
   "source": [
    "### CREATE"
   ]
  },
  {
   "cell_type": "code",
   "execution_count": 3,
   "id": "fce0e17b-4c90-4585-b41f-da64ab4edc8c",
   "metadata": {},
   "outputs": [
    {
     "data": {
      "text/plain": [
       "(4, 5, 7, 7, 7, 6, 6)"
      ]
     },
     "execution_count": 3,
     "metadata": {},
     "output_type": "execute_result"
    }
   ],
   "source": [
    "My_Set = (4, 5, 7, 7, 7, 6, 6)\n",
    "My_Set"
   ]
  },
  {
   "cell_type": "code",
   "execution_count": 5,
   "id": "8acfc091-ef0a-4a4a-a7d9-4f7415ac139e",
   "metadata": {},
   "outputs": [
    {
     "name": "stdout",
     "output_type": "stream",
     "text": [
      "{'cherry', 'apple', 'banana'}\n"
     ]
    }
   ],
   "source": [
    "Fruit_Set = {\"apple\", \"banana\", \"cherry\"}\n",
    "print(Fruit_Set)"
   ]
  },
  {
   "cell_type": "code",
   "execution_count": 50,
   "id": "f8407d4a-8092-4c15-a2d2-4c17d7129a3e",
   "metadata": {},
   "outputs": [
    {
     "name": "stdout",
     "output_type": "stream",
     "text": [
      "{'cherry', 'apple', 'orange', 'banana'}\n"
     ]
    }
   ],
   "source": [
    "Fruit_Set = {\"apple\", \"banana\", \"cherry\"}\n",
    "Fruit_Set.add(\"orange\")\n",
    "print(Fruit_Set)"
   ]
  },
  {
   "cell_type": "markdown",
   "id": "f7970d84-ecef-44ca-8d6d-413386bd2ffa",
   "metadata": {},
   "source": [
    "### READ(For)"
   ]
  },
  {
   "cell_type": "code",
   "execution_count": 11,
   "id": "3039aad7-412b-407c-a8d2-2de7947e42c5",
   "metadata": {},
   "outputs": [
    {
     "name": "stdout",
     "output_type": "stream",
     "text": [
      "cherry\n",
      "apple\n",
      "banana\n"
     ]
    }
   ],
   "source": [
    "Fruit_Set = {\"apple\", \"banana\", \"cherry\"}\n",
    "\n",
    "for x in Fruit_Set:\n",
    "  print(x)"
   ]
  },
  {
   "cell_type": "markdown",
   "id": "b9b81e54-44ba-4784-a335-22a24d2190f7",
   "metadata": {},
   "source": [
    "### READ(if)"
   ]
  },
  {
   "cell_type": "code",
   "execution_count": 17,
   "id": "040278e6-8904-43ad-8626-edb3b222f289",
   "metadata": {},
   "outputs": [
    {
     "name": "stdout",
     "output_type": "stream",
     "text": [
      "3 is available\n"
     ]
    }
   ],
   "source": [
    "if 4 in My_Set:\n",
    "    print(\"3 is available\")\n",
    "else:\n",
    "    print(\"3 is not available\") "
   ]
  },
  {
   "cell_type": "code",
   "execution_count": 19,
   "id": "4c187473-8ecf-432a-80c8-066d779d5ff8",
   "metadata": {},
   "outputs": [
    {
     "data": {
      "text/plain": [
       "list"
      ]
     },
     "execution_count": 19,
     "metadata": {},
     "output_type": "execute_result"
    }
   ],
   "source": [
    "type(list(My_Set))"
   ]
  },
  {
   "cell_type": "code",
   "execution_count": 21,
   "id": "6e1be769-7191-4f5d-99dc-1db4e7f4b34a",
   "metadata": {},
   "outputs": [
    {
     "data": {
      "text/plain": [
       "{4, 5, 6, 7}"
      ]
     },
     "execution_count": 21,
     "metadata": {},
     "output_type": "execute_result"
    }
   ],
   "source": [
    "set(My_Set)"
   ]
  },
  {
   "cell_type": "markdown",
   "id": "0ee03c2a-f1a3-4002-b039-f8b4c7966ca1",
   "metadata": {},
   "source": [
    "### UPDATE"
   ]
  },
  {
   "cell_type": "markdown",
   "id": "8505f675-f70f-4b85-a994-7480dd1f497a",
   "metadata": {},
   "source": [
    "### Once a set is created, you cannot change its items, but you can add new items."
   ]
  },
  {
   "cell_type": "markdown",
   "id": "d709813a-45a4-433d-a2cb-54493c44655a",
   "metadata": {},
   "source": [
    "### DELETE"
   ]
  },
  {
   "cell_type": "code",
   "execution_count": 31,
   "id": "15c6dfe3-d194-494c-ba90-6231d117f865",
   "metadata": {},
   "outputs": [
    {
     "name": "stdout",
     "output_type": "stream",
     "text": [
      "{'cherry', 'apple'}\n"
     ]
    }
   ],
   "source": [
    "# To remove an item in a set, use the remove(), or the discard() method.\n",
    "Fruit_Set = {\"apple\", \"banana\", \"cherry\"}\n",
    "Fruit_Set.remove(\"banana\")\n",
    "print(Fruit_Set)"
   ]
  },
  {
   "cell_type": "code",
   "execution_count": 33,
   "id": "651dc1dc-889f-4158-83c1-ee8fe77041d9",
   "metadata": {},
   "outputs": [
    {
     "name": "stdout",
     "output_type": "stream",
     "text": [
      "{'cherry', 'apple'}\n"
     ]
    }
   ],
   "source": [
    "Fruit_Set = {\"apple\", \"banana\", \"cherry\"}\n",
    "Fruit_Set.discard(\"banana\")\n",
    "print(Fruit_Set)"
   ]
  },
  {
   "cell_type": "code",
   "execution_count": 35,
   "id": "45d16f8a-1d44-4867-bc6c-79ad88dad31b",
   "metadata": {},
   "outputs": [
    {
     "name": "stdout",
     "output_type": "stream",
     "text": [
      "cherry\n",
      "{'apple', 'banana'}\n"
     ]
    }
   ],
   "source": [
    "Fruit_Set = {\"apple\", \"banana\", \"cherry\"}\n",
    "x = Fruit_Set.pop()\n",
    "print(x)\n",
    "print(Fruit_Set)"
   ]
  },
  {
   "cell_type": "code",
   "execution_count": 37,
   "id": "86826c55-a74c-49fb-afac-8dc14bdf237e",
   "metadata": {},
   "outputs": [
    {
     "name": "stdout",
     "output_type": "stream",
     "text": [
      "set()\n"
     ]
    }
   ],
   "source": [
    "# The clear() method empties the set:\n",
    "Fruit_Set = {\"apple\", \"banana\", \"cherry\"}\n",
    "Fruit_Set.clear()\n",
    "print(Fruit_Set)"
   ]
  },
  {
   "cell_type": "code",
   "execution_count": 44,
   "id": "27753d24-ef40-4fcc-bb60-2159c1471f1d",
   "metadata": {},
   "outputs": [],
   "source": [
    "Fruit_Set = {\"apple\", \"banana\", \"cherry\"}\n",
    "del Fruit_Set"
   ]
  },
  {
   "cell_type": "markdown",
   "id": "7be0f78f-6f40-42b0-8821-749c8056e563",
   "metadata": {},
   "source": [
    "## Others(Join)"
   ]
  },
  {
   "cell_type": "code",
   "execution_count": null,
   "id": "1d06882a-f177-483a-a8dc-bd7b810e1e5b",
   "metadata": {},
   "outputs": [],
   "source": []
  }
 ],
 "metadata": {
  "kernelspec": {
   "display_name": "Python [conda env:base] *",
   "language": "python",
   "name": "conda-base-py"
  },
  "language_info": {
   "codemirror_mode": {
    "name": "ipython",
    "version": 3
   },
   "file_extension": ".py",
   "mimetype": "text/x-python",
   "name": "python",
   "nbconvert_exporter": "python",
   "pygments_lexer": "ipython3",
   "version": "3.12.7"
  }
 },
 "nbformat": 4,
 "nbformat_minor": 5
}
