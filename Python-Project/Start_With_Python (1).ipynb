{
 "cells": [
  {
   "cell_type": "markdown",
   "id": "a5324f84-fb63-4f43-9900-a957c6670428",
   "metadata": {},
   "source": [
    "## Syntax"
   ]
  },
  {
   "cell_type": "markdown",
   "id": "983127c0-da20-4b36-95df-e21ee2498322",
   "metadata": {},
   "source": [
    "### Declare And Use Variables"
   ]
  },
  {
   "cell_type": "code",
   "execution_count": 3,
   "id": "acbfa38e-4a0a-4c40-8fb7-9118b7f286cb",
   "metadata": {},
   "outputs": [
    {
     "name": "stdout",
     "output_type": "stream",
     "text": [
      "Dorothe\n"
     ]
    }
   ],
   "source": [
    "Nb_User=\"Dorothe\"\n",
    "print(Nb_User)"
   ]
  },
  {
   "cell_type": "code",
   "execution_count": 5,
   "id": "052879de-9f4c-4591-af7c-fea16243f866",
   "metadata": {},
   "outputs": [
    {
     "name": "stdout",
     "output_type": "stream",
     "text": [
      "200\n"
     ]
    }
   ],
   "source": [
    "Nb_Video=200\n",
    "print(Nb_Video)"
   ]
  },
  {
   "cell_type": "code",
   "execution_count": 7,
   "id": "e92c2909-6579-43fc-924f-988483b5139d",
   "metadata": {},
   "outputs": [
    {
     "name": "stdout",
     "output_type": "stream",
     "text": [
      "1.7\n"
     ]
    }
   ],
   "source": [
    "Size_User=1.70\n",
    "print(Size_User)"
   ]
  },
  {
   "cell_type": "markdown",
   "id": "58f1a695-0af1-4d80-a908-7bec6809cebd",
   "metadata": {},
   "source": [
    "### Data Type"
   ]
  },
  {
   "cell_type": "code",
   "execution_count": 9,
   "id": "2b9b1680-cdbe-4c33-8e29-5fd504972589",
   "metadata": {},
   "outputs": [
    {
     "data": {
      "text/plain": [
       "str"
      ]
     },
     "execution_count": 9,
     "metadata": {},
     "output_type": "execute_result"
    }
   ],
   "source": [
    "type(Nb_User)"
   ]
  },
  {
   "cell_type": "code",
   "execution_count": 11,
   "id": "d810b58f-da30-4cb9-8577-32d69787a712",
   "metadata": {},
   "outputs": [
    {
     "data": {
      "text/plain": [
       "int"
      ]
     },
     "execution_count": 11,
     "metadata": {},
     "output_type": "execute_result"
    }
   ],
   "source": [
    "type(Nb_Video)"
   ]
  },
  {
   "cell_type": "code",
   "execution_count": 13,
   "id": "f003c021-fa2d-4a5e-8713-c0b956d5efc7",
   "metadata": {},
   "outputs": [
    {
     "data": {
      "text/plain": [
       "float"
      ]
     },
     "execution_count": 13,
     "metadata": {},
     "output_type": "execute_result"
    }
   ],
   "source": [
    "type(Size_User)"
   ]
  },
  {
   "cell_type": "markdown",
   "id": "c495081c-2845-4692-9c94-3ceb82c1de65",
   "metadata": {},
   "source": [
    "### Arithmetics Operators (+,-,*,/,//,%)"
   ]
  },
  {
   "cell_type": "code",
   "execution_count": 17,
   "id": "97e77151-e9bf-4268-a85e-4bc5722ba8a8",
   "metadata": {},
   "outputs": [
    {
     "name": "stdout",
     "output_type": "stream",
     "text": [
      "32\n"
     ]
    }
   ],
   "source": [
    "# SUM of Value\n",
    "x=15\n",
    "y=17\n",
    "z=x+y\n",
    "print(z)"
   ]
  },
  {
   "cell_type": "code",
   "execution_count": 19,
   "id": "98c25d16-f468-4fb2-adfb-a37b883cd784",
   "metadata": {},
   "outputs": [
    {
     "name": "stdout",
     "output_type": "stream",
     "text": [
      "-2\n"
     ]
    }
   ],
   "source": [
    "# Soustract of Value\n",
    "x=15\n",
    "y=17\n",
    "z=x-y\n",
    "print(z)"
   ]
  },
  {
   "cell_type": "code",
   "execution_count": 21,
   "id": "a509ed58-b3e8-4a56-bbae-635d1da7d570",
   "metadata": {},
   "outputs": [
    {
     "name": "stdout",
     "output_type": "stream",
     "text": [
      "255\n"
     ]
    }
   ],
   "source": [
    "# Product of Value\n",
    "x=15\n",
    "y=17\n",
    "z=x*y\n",
    "print(z)"
   ]
  },
  {
   "cell_type": "code",
   "execution_count": 25,
   "id": "2c4d0a2f-3206-44ae-b47b-d14df614b86c",
   "metadata": {},
   "outputs": [
    {
     "name": "stdout",
     "output_type": "stream",
     "text": [
      "0\n"
     ]
    }
   ],
   "source": [
    "# recover the integer part of the division\n",
    "z=x//y\n",
    "print(z)"
   ]
  },
  {
   "cell_type": "code",
   "execution_count": 27,
   "id": "ac874d6c-1b64-4c4b-842e-655bc327a31f",
   "metadata": {},
   "outputs": [
    {
     "name": "stdout",
     "output_type": "stream",
     "text": [
      "5\n"
     ]
    }
   ],
   "source": [
    "# Recuperer l;e reste de la division\n",
    "z=x%y\n",
    "print(z)"
   ]
  },
  {
   "cell_type": "code",
   "execution_count": 29,
   "id": "5a3e339b-ce1e-4aa0-aa7e-41914e077bd8",
   "metadata": {},
   "outputs": [
    {
     "data": {
      "text/plain": [
       "5"
      ]
     },
     "execution_count": 29,
     "metadata": {},
     "output_type": "execute_result"
    }
   ],
   "source": [
    "z=x%y\n",
    "z"
   ]
  },
  {
   "cell_type": "markdown",
   "id": "e56d0a87-2f52-4f7e-a2c1-c20abb85046d",
   "metadata": {},
   "source": [
    "### Logics Operators (And, Or, Not)"
   ]
  },
  {
   "cell_type": "code",
   "execution_count": 40,
   "id": "1820ccfc-ca5b-4316-9e7c-a2501ef6e270",
   "metadata": {},
   "outputs": [
    {
     "data": {
      "text/plain": [
       "False"
      ]
     },
     "execution_count": 40,
     "metadata": {},
     "output_type": "execute_result"
    }
   ],
   "source": [
    "x=True\n",
    "y=False\n",
    "z=x and y\n",
    "z"
   ]
  },
  {
   "cell_type": "code",
   "execution_count": 42,
   "id": "b89dafb6-b6bc-4300-b164-b02a9b556de4",
   "metadata": {},
   "outputs": [
    {
     "data": {
      "text/plain": [
       "False"
      ]
     },
     "execution_count": 42,
     "metadata": {},
     "output_type": "execute_result"
    }
   ],
   "source": [
    "z=x & y\n",
    "z"
   ]
  },
  {
   "cell_type": "code",
   "execution_count": 46,
   "id": "e489ff6c-1bcc-41c0-bb98-8050016d616a",
   "metadata": {},
   "outputs": [
    {
     "data": {
      "text/plain": [
       "True"
      ]
     },
     "execution_count": 46,
     "metadata": {},
     "output_type": "execute_result"
    }
   ],
   "source": [
    "z=x or y\n",
    "z"
   ]
  },
  {
   "cell_type": "code",
   "execution_count": 48,
   "id": "c4a95b13-771f-43ac-9745-fbb2c212abf3",
   "metadata": {},
   "outputs": [
    {
     "data": {
      "text/plain": [
       "False"
      ]
     },
     "execution_count": 48,
     "metadata": {},
     "output_type": "execute_result"
    }
   ],
   "source": [
    "z=not x\n",
    "z"
   ]
  },
  {
   "cell_type": "markdown",
   "id": "42fc6c2c-912a-46aa-9a85-59fe338a03f0",
   "metadata": {},
   "source": [
    "### Comparaisons Operators (=, ==, !=, <,>,<=,>=)"
   ]
  },
  {
   "cell_type": "code",
   "execution_count": 50,
   "id": "eeda28d1-1901-48bf-ad65-44abb3644705",
   "metadata": {},
   "outputs": [
    {
     "data": {
      "text/plain": [
       "24"
      ]
     },
     "execution_count": 50,
     "metadata": {},
     "output_type": "execute_result"
    }
   ],
   "source": [
    "age=24\n",
    "age"
   ]
  },
  {
   "cell_type": "code",
   "execution_count": 52,
   "id": "a1d7bc88-379f-4b68-b656-17c08f417e96",
   "metadata": {},
   "outputs": [
    {
     "data": {
      "text/plain": [
       "True"
      ]
     },
     "execution_count": 52,
     "metadata": {},
     "output_type": "execute_result"
    }
   ],
   "source": [
    "# text if age is equal 24\n",
    "age==24"
   ]
  },
  {
   "cell_type": "code",
   "execution_count": 55,
   "id": "07cc39ee-755f-4a64-8f65-073d37fb592a",
   "metadata": {},
   "outputs": [
    {
     "data": {
      "text/plain": [
       "False"
      ]
     },
     "execution_count": 55,
     "metadata": {},
     "output_type": "execute_result"
    }
   ],
   "source": [
    "age<24"
   ]
  },
  {
   "cell_type": "code",
   "execution_count": 57,
   "id": "a161a5e3-1c84-4253-9571-5ad83ebd6df9",
   "metadata": {},
   "outputs": [
    {
     "data": {
      "text/plain": [
       "False"
      ]
     },
     "execution_count": 57,
     "metadata": {},
     "output_type": "execute_result"
    }
   ],
   "source": [
    "age>24"
   ]
  },
  {
   "cell_type": "code",
   "execution_count": 59,
   "id": "4fc7de8f-48ac-4b09-bafc-d92a1b160ecd",
   "metadata": {},
   "outputs": [
    {
     "data": {
      "text/plain": [
       "False"
      ]
     },
     "execution_count": 59,
     "metadata": {},
     "output_type": "execute_result"
    }
   ],
   "source": [
    "age!=24"
   ]
  },
  {
   "cell_type": "code",
   "execution_count": 63,
   "id": "bc26d283-794d-4290-ba9c-079a5a7a8525",
   "metadata": {},
   "outputs": [
    {
     "data": {
      "text/plain": [
       "True"
      ]
     },
     "execution_count": 63,
     "metadata": {},
     "output_type": "execute_result"
    }
   ],
   "source": [
    "age<=24"
   ]
  },
  {
   "cell_type": "code",
   "execution_count": 65,
   "id": "d0f92c0c-09d0-470f-9611-ab3a529f3a7c",
   "metadata": {},
   "outputs": [
    {
     "data": {
      "text/plain": [
       "True"
      ]
     },
     "execution_count": 65,
     "metadata": {},
     "output_type": "execute_result"
    }
   ],
   "source": [
    "age>=24"
   ]
  },
  {
   "cell_type": "markdown",
   "id": "c19f91a8-ac86-4628-b704-495b5b10579f",
   "metadata": {},
   "source": [
    "### Lambda Function"
   ]
  },
  {
   "cell_type": "code",
   "execution_count": 68,
   "id": "dcf6288c-6b01-45e3-827b-0701d8e21ec4",
   "metadata": {},
   "outputs": [
    {
     "data": {
      "text/plain": [
       "15"
      ]
     },
     "execution_count": 68,
     "metadata": {},
     "output_type": "execute_result"
    }
   ],
   "source": [
    "addition=lambda x,y:x+y\n",
    "temp=addition(x=5,y=10)\n",
    "temp"
   ]
  },
  {
   "cell_type": "markdown",
   "id": "c1c3f8b3-f7e9-4087-9d26-9ef6163fa015",
   "metadata": {},
   "source": [
    "### Classic Function"
   ]
  },
  {
   "cell_type": "code",
   "execution_count": 82,
   "id": "6fc2c498-7a5b-4f29-914c-5d628b5205bb",
   "metadata": {},
   "outputs": [],
   "source": [
    "def addition(a,b,c):\n",
    "    result=a+b+c\n",
    "    return result"
   ]
  },
  {
   "cell_type": "code",
   "execution_count": 86,
   "id": "2de4da04-625b-4a36-96ce-3d2986e3845c",
   "metadata": {},
   "outputs": [
    {
     "data": {
      "text/plain": [
       "14"
      ]
     },
     "execution_count": 86,
     "metadata": {},
     "output_type": "execute_result"
    }
   ],
   "source": [
    "addition(a=2,b=8,c=4)"
   ]
  },
  {
   "cell_type": "code",
   "execution_count": 100,
   "id": "3ab7281d-0522-403b-a5b1-0fd7c83d0589",
   "metadata": {},
   "outputs": [],
   "source": [
    "def product(a,b,c):\n",
    "    result=a*b\n",
    "    result=result*c\n",
    "    return result\n"
   ]
  },
  {
   "cell_type": "code",
   "execution_count": 102,
   "id": "775bf33d-af0a-4082-aa43-0d5ea5c53eaf",
   "metadata": {},
   "outputs": [
    {
     "data": {
      "text/plain": [
       "64"
      ]
     },
     "execution_count": 102,
     "metadata": {},
     "output_type": "execute_result"
    }
   ],
   "source": [
    "product(a=2,b=8,c=4)"
   ]
  },
  {
   "cell_type": "markdown",
   "id": "4e03de09-c9ba-45bf-b501-63470133d49b",
   "metadata": {},
   "source": [
    "### Conditions(if)\n"
   ]
  },
  {
   "cell_type": "markdown",
   "id": "d4c69285-35dd-420e-bb1a-23d132ad529c",
   "metadata": {},
   "source": [
    "#### Simple Decision"
   ]
  },
  {
   "cell_type": "code",
   "execution_count": 5,
   "id": "350fd4b1-21b9-41e9-9806-b8dcbd18cfbd",
   "metadata": {},
   "outputs": [
    {
     "name": "stdout",
     "output_type": "stream",
     "text": [
      "its Warming\n"
     ]
    }
   ],
   "source": [
    "temperature=35\n",
    "if temperature>30:\n",
    "    print(\"its Warming\")"
   ]
  },
  {
   "cell_type": "code",
   "execution_count": 7,
   "id": "94d659de-edfa-48d9-bfb0-2384be7c6e7b",
   "metadata": {},
   "outputs": [
    {
     "data": {
      "text/plain": [
       "True"
      ]
     },
     "execution_count": 7,
     "metadata": {},
     "output_type": "execute_result"
    }
   ],
   "source": [
    "temperature>30"
   ]
  },
  {
   "cell_type": "markdown",
   "id": "dd14b61b-30ca-447f-abb7-8064fdfbc557",
   "metadata": {},
   "source": [
    "#### Decision with Alternative"
   ]
  },
  {
   "cell_type": "code",
   "execution_count": 12,
   "id": "1cc1a2b4-36d0-4e2d-9d90-344f1a47b269",
   "metadata": {},
   "outputs": [
    {
     "name": "stdout",
     "output_type": "stream",
     "text": [
      "its Cold\n"
     ]
    }
   ],
   "source": [
    "temperature=6\n",
    "if temperature>30:\n",
    "    print(\"its Warming\")\n",
    "else:\n",
    "    print(\"its Cold\")"
   ]
  },
  {
   "cell_type": "code",
   "execution_count": 14,
   "id": "c859837b-2b89-472f-8a26-e9c273722ba0",
   "metadata": {},
   "outputs": [
    {
     "name": "stdout",
     "output_type": "stream",
     "text": [
      "its Warming\n"
     ]
    }
   ],
   "source": [
    "temperature=35\n",
    "if temperature>30:\n",
    "    print(\"its Warming\")\n",
    "else:\n",
    "    print(\"its Cold\")"
   ]
  },
  {
   "cell_type": "code",
   "execution_count": 16,
   "id": "d115ae97-23d0-45f3-842e-37e8527f67b2",
   "metadata": {},
   "outputs": [
    {
     "name": "stdout",
     "output_type": "stream",
     "text": [
      "Improve\n"
     ]
    }
   ],
   "source": [
    "note=\"F\"\n",
    "if note==\"A\":\n",
    "    print(\"Excellent\")\n",
    "elif note==\"B\":\n",
    "    print(\"Great\")\n",
    "elif note==\"C\":\n",
    "    print(\"Average\")\n",
    "else:\n",
    "    print(\"Improve\")"
   ]
  },
  {
   "cell_type": "markdown",
   "id": "8570129e-8b4e-4885-95c3-aa4364935f1f",
   "metadata": {},
   "source": [
    "#### Multiples Conditions"
   ]
  },
  {
   "cell_type": "code",
   "execution_count": 19,
   "id": "0382c4c8-8a45-492b-bd94-0da296b6e7ae",
   "metadata": {},
   "outputs": [
    {
     "name": "stdout",
     "output_type": "stream",
     "text": [
      "Scholarship Accepted\n"
     ]
    }
   ],
   "source": [
    "age=17 \n",
    "note=24\n",
    "if (age==17) and (note==24):\n",
    "    print(\"Scholarship Accepted\")\n",
    "else:\n",
    "    print(\"Scholarship Refused\")\n"
   ]
  },
  {
   "cell_type": "code",
   "execution_count": 21,
   "id": "31ebedb9-4925-4a45-b926-92ff65863439",
   "metadata": {},
   "outputs": [
    {
     "name": "stdout",
     "output_type": "stream",
     "text": [
      "Scholarship Accepted\n"
     ]
    }
   ],
   "source": [
    "age=17 \n",
    "note=24\n",
    "if (age>=17) and (note<=24):\n",
    "    print(\"Scholarship Accepted\")\n",
    "else:\n",
    "    print(\"Scholarship Refused\")"
   ]
  },
  {
   "cell_type": "code",
   "execution_count": null,
   "id": "93150eec-01e2-49cb-be46-5c25d06e30ad",
   "metadata": {},
   "outputs": [],
   "source": [
    "age=17 \n",
    "note=24\n",
    "if (age>=17) and (note<=24):\n",
    "    print(\"Scholarship Accepted\")\n",
    "else:\n",
    "    print(\"Scholarship Refused\")"
   ]
  },
  {
   "cell_type": "markdown",
   "id": "8e35c1b7-a248-4c7a-812f-945ea30278cb",
   "metadata": {},
   "source": [
    "### Excerices"
   ]
  },
  {
   "cell_type": "code",
   "execution_count": 67,
   "id": "abda8850-0154-4eca-b5f6-8c0175a88f70",
   "metadata": {},
   "outputs": [],
   "source": [
    "def Classe_Age(x):\n",
    "    if (x==12) and (x>=0):\n",
    "        result=\"Child\"\n",
    "    elif (x>=12) and (x<=17):\n",
    "        result= \"Teenager\"\n",
    "    elif (x>=18) and (x<=59):\n",
    "        result= \"Adult\"\n",
    "    elif (x>=60):\n",
    "        result= \"Senior\"\n",
    "    else:\n",
    "        result= \"Not Valid\"\n",
    "    return(result)\n"
   ]
  },
  {
   "cell_type": "code",
   "execution_count": 69,
   "id": "09993f05-ac54-4a82-b1d8-8609927ff28d",
   "metadata": {},
   "outputs": [
    {
     "data": {
      "text/plain": [
       "'Adult'"
      ]
     },
     "execution_count": 69,
     "metadata": {},
     "output_type": "execute_result"
    }
   ],
   "source": [
    "Classe_Age(35)"
   ]
  },
  {
   "cell_type": "code",
   "execution_count": 73,
   "id": "9e8eb788-b2a7-4907-92f5-cee7fb66a37c",
   "metadata": {},
   "outputs": [
    {
     "data": {
      "text/plain": [
       "'Teenager'"
      ]
     },
     "execution_count": 73,
     "metadata": {},
     "output_type": "execute_result"
    }
   ],
   "source": [
    "Classe_Age(13)"
   ]
  },
  {
   "cell_type": "code",
   "execution_count": 75,
   "id": "f7d319fd-8def-4d87-9acd-5259c29050a4",
   "metadata": {},
   "outputs": [
    {
     "data": {
      "text/plain": [
       "'Senior'"
      ]
     },
     "execution_count": 75,
     "metadata": {},
     "output_type": "execute_result"
    }
   ],
   "source": [
    "Classe_Age(61)"
   ]
  },
  {
   "cell_type": "code",
   "execution_count": 77,
   "id": "d33f6cb9-dd36-4365-81d1-78204dfa702b",
   "metadata": {},
   "outputs": [
    {
     "data": {
      "text/plain": [
       "'Not Valid'"
      ]
     },
     "execution_count": 77,
     "metadata": {},
     "output_type": "execute_result"
    }
   ],
   "source": [
    "Classe_Age(8)"
   ]
  },
  {
   "cell_type": "code",
   "execution_count": 79,
   "id": "4de22cdb-2f34-4f75-b3d3-c54944e69994",
   "metadata": {},
   "outputs": [
    {
     "data": {
      "text/plain": [
       "'Child'"
      ]
     },
     "execution_count": 79,
     "metadata": {},
     "output_type": "execute_result"
    }
   ],
   "source": [
    "Classe_Age(12)"
   ]
  },
  {
   "cell_type": "markdown",
   "id": "b22cd70b-ec4a-471a-b40f-d73b4082939a",
   "metadata": {},
   "source": [
    "### Python For Loops"
   ]
  },
  {
   "cell_type": "code",
   "execution_count": 87,
   "id": "12f1d353-c1f4-4e72-88d9-66f5315dec5f",
   "metadata": {},
   "outputs": [
    {
     "name": "stdout",
     "output_type": "stream",
     "text": [
      "1\n",
      "2\n",
      "3\n",
      "4\n",
      "5\n",
      "6\n",
      "7\n",
      "8\n",
      "9\n"
     ]
    }
   ],
   "source": [
    "for i in range (1,10,1):\n",
    "    print(i)"
   ]
  },
  {
   "cell_type": "code",
   "execution_count": 91,
   "id": "68a759d2-6922-465c-a6f2-bb9c06a7a98c",
   "metadata": {},
   "outputs": [
    {
     "name": "stdout",
     "output_type": "stream",
     "text": [
      "10\n",
      "9\n",
      "8\n",
      "7\n",
      "6\n",
      "5\n",
      "4\n",
      "3\n",
      "2\n"
     ]
    }
   ],
   "source": [
    "for i in range (10,1,-1):\n",
    "    print(i)"
   ]
  },
  {
   "cell_type": "markdown",
   "id": "f04a116f-3274-4815-9e3f-c93593db9e0e",
   "metadata": {},
   "source": [
    "### For loops with if condition"
   ]
  },
  {
   "cell_type": "code",
   "execution_count": 111,
   "id": "7d965c83-d802-4017-bc0f-dbc37ac2fca1",
   "metadata": {},
   "outputs": [
    {
     "name": "stdout",
     "output_type": "stream",
     "text": [
      "10 Even\n",
      "9 Odd\n",
      "8 Even\n",
      "7 Odd\n",
      "6 Even\n",
      "5 Odd\n",
      "4 Even\n",
      "3 Odd\n",
      "2 Even\n",
      "1 Odd\n"
     ]
    }
   ],
   "source": [
    "for i in range (10,0,-1):\n",
    "    if i % 2 == 0:\n",
    "        print(i,\"Even\")\n",
    "    else:\n",
    "        print(i,\"Odd\")\n",
    "  "
   ]
  },
  {
   "cell_type": "markdown",
   "id": "119fb555-44e4-4c93-a029-8f0225812e85",
   "metadata": {},
   "source": [
    "### The while Loop\n"
   ]
  },
  {
   "cell_type": "markdown",
   "id": "71c1d659-143c-4842-b95d-8ef26c2b3fc8",
   "metadata": {},
   "source": [
    "#### With the while loop we can execute a set of statements as long as a condition is true.\n"
   ]
  },
  {
   "cell_type": "code",
   "execution_count": 115,
   "id": "e8e35be0-d765-4365-8720-2a988ffa2a8b",
   "metadata": {},
   "outputs": [
    {
     "name": "stdout",
     "output_type": "stream",
     "text": [
      "1\n",
      "2\n",
      "3\n",
      "4\n",
      "5\n"
     ]
    }
   ],
   "source": [
    "# Print i as long as i is less than 6:\n",
    "i = 1\n",
    "while i < 6:\n",
    "  print(i)\n",
    "  i += 1"
   ]
  },
  {
   "cell_type": "code",
   "execution_count": 123,
   "id": "51f15de3-f5ff-419a-987a-676f0ffe5e12",
   "metadata": {},
   "outputs": [
    {
     "name": "stdout",
     "output_type": "stream",
     "text": [
      "1\n",
      "2\n",
      "3\n",
      "4\n",
      "5\n",
      "6\n",
      "7\n",
      "8\n",
      "9\n",
      "10\n"
     ]
    }
   ],
   "source": [
    "compt = 1\n",
    "while compt <= 10:\n",
    "  print(compt)\n",
    "  compt += 1"
   ]
  },
  {
   "cell_type": "markdown",
   "id": "d49407e9-add7-4860-8a15-c25883513b8a",
   "metadata": {},
   "source": [
    "#### With the break statement we can stop the loop even if the while condition is true:"
   ]
  },
  {
   "cell_type": "code",
   "execution_count": 126,
   "id": "b67463b4-1904-4fa3-b899-e3b174ebcc57",
   "metadata": {},
   "outputs": [
    {
     "name": "stdout",
     "output_type": "stream",
     "text": [
      "1\n",
      "2\n",
      "3\n"
     ]
    }
   ],
   "source": [
    "i = 1\n",
    "while i < 6:\n",
    "  print(i)\n",
    "  if i == 3:\n",
    "    break\n",
    "  i += 1"
   ]
  },
  {
   "cell_type": "code",
   "execution_count": 132,
   "id": "2f89a1b9-937e-4ef6-87db-f83cc4680b4b",
   "metadata": {},
   "outputs": [
    {
     "name": "stdout",
     "output_type": "stream",
     "text": [
      "1\n",
      "2\n",
      "3\n"
     ]
    }
   ],
   "source": [
    "i = 1\n",
    "while True :\n",
    "  print(i)\n",
    "  if i == 3:\n",
    "    break\n",
    "  i += 1\n"
   ]
  },
  {
   "cell_type": "code",
   "execution_count": null,
   "id": "09c220a2-0240-42ad-9b47-723dd8a9275b",
   "metadata": {},
   "outputs": [],
   "source": []
  }
 ],
 "metadata": {
  "kernelspec": {
   "display_name": "Python [conda env:base] *",
   "language": "python",
   "name": "conda-base-py"
  },
  "language_info": {
   "codemirror_mode": {
    "name": "ipython",
    "version": 3
   },
   "file_extension": ".py",
   "mimetype": "text/x-python",
   "name": "python",
   "nbconvert_exporter": "python",
   "pygments_lexer": "ipython3",
   "version": "3.12.7"
  }
 },
 "nbformat": 4,
 "nbformat_minor": 5
}
